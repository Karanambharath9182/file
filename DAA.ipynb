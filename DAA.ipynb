{
  "nbformat": 4,
  "nbformat_minor": 0,
  "metadata": {
    "colab": {
      "provenance": [],
      "authorship_tag": "ABX9TyPBblz5gTm+WO496gJvZd+F",
      "include_colab_link": true
    },
    "kernelspec": {
      "name": "python3",
      "display_name": "Python 3"
    },
    "language_info": {
      "name": "python"
    }
  },
  "cells": [
    {
      "cell_type": "markdown",
      "metadata": {
        "id": "view-in-github",
        "colab_type": "text"
      },
      "source": [
        "<a href=\"https://colab.research.google.com/github/Karanambharath9182/file/blob/master/DAA.ipynb\" target=\"_parent\"><img src=\"https://colab.research.google.com/assets/colab-badge.svg\" alt=\"Open In Colab\"/></a>"
      ]
    },
    {
      "cell_type": "code",
      "source": [
        "# 1 TOWERS OF HANOI\n",
        "\n",
        "def toh(n, source, auxiliary, destination):\n",
        "    if n == 4:\n",
        "        print(f\"Move disk 1 from place {source} to {destination}\")\n",
        "        return\n",
        "\n",
        "\n",
        "    toh(n-1, source, destination,auxiliary)\n",
        "\n",
        "\n",
        "    print(f\"moves disk {n} from place {source} to {destination}\")\n",
        "\n",
        "\n",
        "    toh(n-1, auxiliary,source, destination)\n",
        "\n",
        "n = 6\n",
        "toh(n, 'A', 'B', 'C')"
      ],
      "metadata": {
        "colab": {
          "base_uri": "https://localhost:8080/"
        },
        "id": "qTbdu-OXIqvP",
        "outputId": "2390b7a5-5014-4a58-eded-301acd58cd67"
      },
      "execution_count": null,
      "outputs": [
        {
          "output_type": "stream",
          "name": "stdout",
          "text": [
            "Move disk 1 from place A to C\n",
            "moves disk 5 from place A to B\n",
            "Move disk 1 from place C to B\n",
            "moves disk 6 from place A to C\n",
            "Move disk 1 from place B to A\n",
            "moves disk 5 from place B to C\n",
            "Move disk 1 from place A to C\n"
          ]
        }
      ]
    },
    {
      "cell_type": "code",
      "source": [
        "# 2a IMPLEMENTING FIBONACCI TERMS USING  RECURSION\n",
        "\n",
        "def fibonacci_recursive(n):\n",
        "  if n<=1:\n",
        "    return n\n",
        "  else:\n",
        "      return fibonacci_recursive(n-1)+fibonacci_recursive(n-2)\n",
        "n=int(input(\"enter the value of n:\"))\n",
        "print(\"fibonacci series using recursive:\")\n",
        "for i in range(n):\n",
        "    print(fibonacci_recursive(i),end=\" \")"
      ],
      "metadata": {
        "colab": {
          "base_uri": "https://localhost:8080/"
        },
        "id": "ygjRaUSX2X6E",
        "outputId": "3512e6bd-5d1e-4b11-b6b2-ce52a1e65cb3"
      },
      "execution_count": null,
      "outputs": [
        {
          "output_type": "stream",
          "name": "stdout",
          "text": [
            "enter the value of n:7\n",
            "fibonacci series using recursive:\n",
            "0 1 1 2 3 5 8 "
          ]
        }
      ]
    },
    {
      "cell_type": "code",
      "execution_count": null,
      "metadata": {
        "colab": {
          "base_uri": "https://localhost:8080/"
        },
        "id": "VTJp3izMnR9a",
        "outputId": "8e373992-7b68-4b42-e049-31d153882c93"
      },
      "outputs": [
        {
          "output_type": "stream",
          "name": "stdout",
          "text": [
            "The first 10 Fibonacci terms are: [0, 1, 1, 2, 3, 5, 8, 13, 21, 34]\n"
          ]
        }
      ],
      "source": [
        "# 2b IMPLEMENT NTH FIBONACCI TERM USING iteration\n",
        "\n",
        "def fibonacci_iterative(n):\n",
        "    if n <= 0:\n",
        "        return \"Invalid Input\"\n",
        "    elif n == 1:\n",
        "        return [0]\n",
        "    elif n == 2:\n",
        "        return [0, 1]\n",
        "\n",
        "    fib_sequence = [0, 1]\n",
        "    for _ in range(2, n):\n",
        "        fib_sequence.append(fib_sequence[-1] + fib_sequence[-2])\n",
        "    return fib_sequence\n",
        "\n",
        "\n",
        "n = 10\n",
        "print(f\"The first {n} Fibonacci terms are: {fibonacci_iterative(n)}\")\n",
        "\n",
        "\n",
        "\n"
      ]
    },
    {
      "cell_type": "code",
      "source": [
        "# 3 IMPLEMENT BIN PACKING USING NEXT FIT ALGORITHM\n",
        "\n",
        "def first_fit(bin_capacity, items):\n",
        "    bins = []\n",
        "    for item in items:\n",
        "        placed = False\n",
        "        for i in range(len(bins)):\n",
        "            if bins[i] >= item:\n",
        "                bins[i] -= item\n",
        "                placed = True\n",
        "                break\n",
        "        if not placed:\n",
        "            bins.append(bin_capacity - item)\n",
        "    return bins\n",
        "\n",
        "bin_capacity = 10\n",
        "items = [1, 3, 5, 7, 9, 2, 4, 6, 8, 0]\n",
        "bins_used = first_fit(bin_capacity, items)\n",
        "\n",
        "print(f\"Number of bins used: {len(bins_used)}\")\n",
        "print(f\"Remaining space in each bin: {bins_used}\")\n"
      ],
      "metadata": {
        "colab": {
          "base_uri": "https://localhost:8080/"
        },
        "id": "OvdRtJuM5kt-",
        "outputId": "ad7650bd-2bf2-4657-88f0-80fce2998f88"
      },
      "execution_count": null,
      "outputs": [
        {
          "output_type": "stream",
          "name": "stdout",
          "text": [
            "Number of bins used: 5\n",
            "Remaining space in each bin: [1, 1, 1, 0, 2]\n"
          ]
        }
      ]
    },
    {
      "cell_type": "code",
      "source": [
        "  # 4 knapscak dynamic approach\n",
        "\n",
        "class Item:\n",
        "    def __init__(self, value, weight):\n",
        "        self.value = value\n",
        "        self.weight = weight\n",
        "        self.ratio = value / weight\n",
        "def knapsack_greedy(items, capacity):\n",
        "    items.sort(key=lambda item: item.ratio, reverse=True)\n",
        "    total_value = 0\n",
        "    total_weight = 0\n",
        "    for item in items:\n",
        "        if total_weight + item.weight <= capacity:\n",
        "            total_weight += item.weight\n",
        "            total_value += item.value\n",
        "        else:\n",
        "            remaining_capacity = capacity - total_weight\n",
        "            total_value += item.value * (remaining_capacity / item.weight)\n",
        "            break\n",
        "    return total_value\n",
        "items = [\n",
        "    Item(60, 10),\n",
        "    Item(100, 20),\n",
        "    Item(120, 30)\n",
        "]\n",
        "capacity = 50\n",
        "max_value = knapsack_greedy(items, capacity)\n",
        "print(f\"Maximum value we can obtain: {max_value}\")"
      ],
      "metadata": {
        "colab": {
          "base_uri": "https://localhost:8080/"
        },
        "id": "mZWSZ_KzqCvv",
        "outputId": "bbfb2649-61ec-4220-84dd-636635fb6278"
      },
      "execution_count": null,
      "outputs": [
        {
          "output_type": "stream",
          "name": "stdout",
          "text": [
            "Maximum value we can obtain: 240.0\n"
          ]
        }
      ]
    },
    {
      "cell_type": "code",
      "source": [
        "# 5 IMPLEMENT TRAVELLING SALESMAN PROBLEM USING DYNAMIC APROACH\n",
        "\n",
        "import sys\n",
        "def totalcost(mask,pos,n,cost):\n",
        "  if mask == (1 << n) - 1:\n",
        "    return cost[pos][0]\n",
        "  ans = sys.maxsize\n",
        "  for i in range(n):\n",
        "      if (mask & (1 << i)) == 0:\n",
        "        ans = min(ans, cost[pos][i] +\n",
        "                  totalcost(mask | (1 << i),i,n,cost))\n",
        "  return ans\n",
        "def tsp(cost):\n",
        "    n = len(cost)\n",
        "    return totalcost(1, 0, n, cost)\n",
        "\n",
        "if __name__==\"__main__\":\n",
        "        cost = [\n",
        "            [0,10,15,20],\n",
        "            [10,0,35,25],\n",
        "            [10,35,0,30],\n",
        "            [20,5,30,0]\n",
        "        ]\n",
        "        result = tsp(cost)\n",
        "        print(result)"
      ],
      "metadata": {
        "id": "QG0zzB75EOlr",
        "colab": {
          "base_uri": "https://localhost:8080/"
        },
        "outputId": "98f8d2b2-a45a-47d2-cdaf-a80c0c91ba32"
      },
      "execution_count": null,
      "outputs": [
        {
          "output_type": "stream",
          "name": "stdout",
          "text": [
            "60\n"
          ]
        }
      ]
    },
    {
      "cell_type": "code",
      "source": [
        "# 6 prims method minimum spanning tree\n",
        "\n",
        "import sys\n",
        "class Graph():\n",
        "    def __init__(self, vertices):\n",
        "        self.V = vertices\n",
        "        self.graph = [[0 for column in range(vertices)]\n",
        "                      for row in range(vertices)]\n",
        "    def printMST(self, parent):\n",
        "        print(\"Edge \\tWeight\")\n",
        "        for i in range(1, self.V):\n",
        "            print(parent[i], \"-\", i, \"\\t\", self.graph[parent[i]][i])\n",
        "    def minKey(self, key, mstSet):\n",
        "        min = sys.maxsize\n",
        "\n",
        "        for v in range(self.V):\n",
        "            if key[v] < min and mstSet[v] == False:\n",
        "                min = key[v]\n",
        "                min_index = v\n",
        "\n",
        "        return min_index\n",
        "    def primMST(self):\n",
        "        key = [sys.maxsize] * self.V\n",
        "        parent = [None] * self.V\n",
        "        key[0] = 0\n",
        "        mstSet = [False] * self.V\n",
        "\n",
        "        parent[0] = -1\n",
        "\n",
        "        for cout in range(self.V):\n",
        "\n",
        "            u = self.minKey(key, mstSet)\n",
        "\n",
        "            mstSet[u] = True\n",
        "\n",
        "            for v in range(self.V):\n",
        "\n",
        "\n",
        "                if self.graph[u][v] > 0 and mstSet[v] == False \\\n",
        "                and key[v] > self.graph[u][v]:\n",
        "                    key[v] = self.graph[u][v]\n",
        "                    parent[v] = u\n",
        "\n",
        "        self.printMST(parent)\n",
        "\n",
        "if __name__ == '__main__':\n",
        "    g = Graph(5)\n",
        "    g.graph = [[0, 2, 0, 6, 0],\n",
        "               [2, 0, 3, 8, 5],\n",
        "               [0, 3, 0, 0, 7],\n",
        "               [6, 8, 0, 0, 9],\n",
        "               [0, 5, 7, 9, 0]]\n",
        "\n",
        "    g.primMST()\n"
      ],
      "metadata": {
        "colab": {
          "base_uri": "https://localhost:8080/"
        },
        "id": "W4BxwSHnzhKc",
        "outputId": "1bc78e1a-b6e6-40a1-c484-199f310a186a"
      },
      "execution_count": null,
      "outputs": [
        {
          "output_type": "stream",
          "name": "stdout",
          "text": [
            "Edge \tWeight\n",
            "0 - 1 \t 2\n",
            "1 - 2 \t 3\n",
            "0 - 3 \t 6\n",
            "1 - 4 \t 5\n"
          ]
        }
      ]
    },
    {
      "cell_type": "code",
      "source": [
        "# 7 Python program for Dijkstra's single\n",
        "import sys\n",
        "class Graph():\n",
        "    def __init__(self, vertices):\n",
        "        self.V = vertices\n",
        "        self.graph = [[0 for column in range(vertices)]\n",
        "                      for row in range(vertices)]\n",
        "\n",
        "    def printSolution(self, dist):\n",
        "        print(\"Vertex \\tDistance from Source\")\n",
        "        for node in range(self.V):\n",
        "            print (node), \"   \\t\", dist[node]\n",
        "    def minDistance(self, dist, sptSet):\n",
        "        min = sys.maxsize\n",
        "        for u in range(self.V):\n",
        "            if dist[u] < min and sptSet[u] == False:\n",
        "                min = dist[u]\n",
        "                min_index = u\n",
        "        return min_index\n",
        "    def dijkstra(self, src):\n",
        "        dist = [sys.maxsize] * self.V\n",
        "        dist[src] = 0\n",
        "        sptSet = [False] * self.V\n",
        "\n",
        "        for cout in range(self.V):\n",
        "\n",
        "\n",
        "            x = self.minDistance(dist, sptSet)\n",
        "\n",
        "            sptSet[x] = True\n",
        "\n",
        "\n",
        "            for y in range(self.V):\n",
        "                if self.graph[x][y] > 0 and sptSet[y] == False and \\\n",
        "                        dist[y] > dist[x] + self.graph[x][y]:\n",
        "                    dist[y] = dist[x] + self.graph[x][y]\n",
        "\n",
        "        self.printSolution(dist)\n",
        "\n",
        "\n",
        "# Driver's code\n",
        "if __name__ == \"__main__\":\n",
        "    g = Graph(9)\n",
        "    g.graph = [[0, 4, 0, 0, 0, 0, 0, 8, 0],\n",
        "               [4, 0, 8, 0, 0, 0, 0, 11, 0],\n",
        "               [0, 8, 0, 7, 0, 4, 0, 0, 2],\n",
        "               [0, 0, 7, 0, 9, 14, 0, 0, 0],\n",
        "               [0, 0, 0, 9, 0, 10, 0, 0, 0],\n",
        "               [0, 0, 4, 14, 10, 0, 2, 0, 0],\n",
        "               [0, 0, 0, 0, 0, 2, 0, 1, 6],\n",
        "               [8, 11, 0, 0, 0, 0, 1, 0, 7],\n",
        "               [0, 0, 2, 0, 0, 0, 6, 7, 0]\n",
        "               ]\n",
        "\n",
        "    g.dijkstra(0)\n",
        "\n",
        "\n",
        "\n",
        "\n"
      ],
      "metadata": {
        "id": "C2f6Nlik5xwh",
        "colab": {
          "base_uri": "https://localhost:8080/"
        },
        "outputId": "477cc118-b009-4e59-b832-bc176e0dbe57"
      },
      "execution_count": null,
      "outputs": [
        {
          "output_type": "stream",
          "name": "stdout",
          "text": [
            "Vertex \tDistance from Source\n",
            "0\n",
            "1\n",
            "2\n",
            "3\n",
            "4\n",
            "5\n",
            "6\n",
            "7\n",
            "8\n"
          ]
        }
      ]
    },
    {
      "cell_type": "code",
      "source": [
        "# 8 IMPLEMENT NETWORK FLOW ALGORITHM:\n",
        "\n",
        "from collections import deque\n",
        "\n",
        "class Graph:\n",
        "    def __init__(self, vertices):\n",
        "        self.V = vertices  # Number of vertices\n",
        "        self.graph = [[0] * vertices for _ in range(vertices)]  # Adjacency matrix\n",
        "\n",
        "    def add_edge(self, u, v, capacity):\n",
        "        \"\"\"Adds an edge with the given capacity.\"\"\"\n",
        "        self.graph[u][v] = capacity\n",
        "\n",
        "    def bfs(self, source, sink, parent):\n",
        "        \"\"\"Performs BFS to find an augmenting path.\"\"\"\n",
        "        visited = [False] * self.V\n",
        "        queue = deque([source])\n",
        "        visited[source] = True\n",
        "\n",
        "        while queue:\n",
        "            u = queue.popleft()\n",
        "            for v in range(self.V):\n",
        "                if not visited[v] and self.graph[u][v] > 0:\n",
        "                    queue.append(v)\n",
        "                    visited[v] = True\n",
        "                    parent[v] = u\n",
        "                    if v == sink:\n",
        "                        return True\n",
        "        return False\n",
        "\n",
        "    def ford_fulkerson(self, source, sink):\n",
        "        \"\"\"Implements the Ford-Fulkerson algorithm using BFS (Edmonds-Karp).\"\"\"\n",
        "        parent = [-1] * self.V\n",
        "        max_flow = 0\n",
        "\n",
        "        while self.bfs(source, sink, parent):\n",
        "            path_flow = float(\"Inf\")\n",
        "            s = sink\n",
        "\n",
        "            while s != source:\n",
        "                path_flow = min(path_flow, self.graph[parent[s]][s])\n",
        "                s = parent[s]\n",
        "\n",
        "            max_flow += path_flow\n",
        "            v = sink\n",
        "            while v != source:\n",
        "                u = parent[v]\n",
        "                self.graph[u][v] -= path_flow\n",
        "                self.graph[v][u] += path_flow  # Reverse flow for residual graph\n",
        "                v = parent[v]\n",
        "\n",
        "        return max_flow\n",
        "\n",
        "# Example Usage\n",
        "if __name__ == \"__main__\":\n",
        "    g = Graph(6)  # Graph with 6 vertices\n",
        "    g.add_edge(0, 1, 16)\n",
        "    g.add_edge(0, 2, 13)\n",
        "    g.add_edge(1, 2, 10)\n",
        "    g.add_edge(1, 3, 12)\n",
        "    g.add_edge(2, 1, 4)\n",
        "    g.add_edge(2, 4, 14)\n",
        "    g.add_edge(3, 2, 9)\n",
        "    g.add_edge(3, 5, 20)\n",
        "    g.add_edge(4, 3, 7)\n",
        "    g.add_edge(4, 5, 4)\n",
        "\n",
        "    source = 0\n",
        "    sink = 5\n",
        "    print(\"The maximum possible flow is:\", g.ford_fulkerson(source, sink))\n",
        "\n",
        "\n",
        "\n",
        "\n"
      ],
      "metadata": {
        "colab": {
          "base_uri": "https://localhost:8080/"
        },
        "id": "oloBbnz67TSV",
        "outputId": "83f64ef2-4372-4b2b-e53c-6fcb1ce447e8"
      },
      "execution_count": null,
      "outputs": [
        {
          "output_type": "stream",
          "name": "stdout",
          "text": [
            "The maximum possible flow is: 23\n"
          ]
        }
      ]
    },
    {
      "cell_type": "code",
      "source": [
        "# 9 IMPLEMENT APPROXIMATION ALGORITHM\n",
        "\n",
        "import random\n",
        "\n",
        "def vertex_cover_approximation(graph):\n",
        "    cover = set()\n",
        "    edges = set()\n",
        "\n",
        "    for u in graph:\n",
        "        for v in graph[u]:\n",
        "            edges.add((u, v))\n",
        "\n",
        "    while edges:\n",
        "        u, v = random.choice(list(edges))\n",
        "        cover.add(u)\n",
        "        cover.add(v)\n",
        "\n",
        "        edges = {edge for edge in edges if u not in edge and v not in edge}\n",
        "\n",
        "    return cover\n",
        "\n",
        "# Example Usage\n",
        "graph = {\n",
        "    0: [1, 2],\n",
        "    1: [0, 3],\n",
        "    2: [0, 3],\n",
        "    3: [1, 2, 4],\n",
        "    4: [3]\n",
        "}\n",
        "\n",
        "approx_cover = vertex_cover_approximation(graph)\n",
        "print(\"Approximate Vertex Cover:\", approx_cover)\n"
      ],
      "metadata": {
        "colab": {
          "base_uri": "https://localhost:8080/"
        },
        "id": "Y4KILcOX-0Af",
        "outputId": "b01abcf4-3c04-4818-c7ce-e8117ba90800"
      },
      "execution_count": null,
      "outputs": [
        {
          "output_type": "stream",
          "name": "stdout",
          "text": [
            "Approximate Vertex Cover: {0, 2, 3, 4}\n"
          ]
        }
      ]
    },
    {
      "cell_type": "code",
      "source": [
        "# 10 IMPLEMENT RANDOMIZED ALGORITHM\n",
        "\n",
        "import random\n",
        "\n",
        "def randomized_partition(arr, low, high):\n",
        "    pivot_index = random.randint(low, high)\n",
        "    arr[pivot_index], arr[high] = arr[high], arr[pivot_index]  # Swap pivot with last element\n",
        "    pivot = arr[high]\n",
        "    i = low - 1\n",
        "\n",
        "    for j in range(low, high):\n",
        "        if arr[j] <= pivot:\n",
        "            i += 1\n",
        "            arr[i], arr[j] = arr[j], arr[i]\n",
        "\n",
        "    arr[i + 1], arr[high] = arr[high], arr[i + 1]\n",
        "    return i + 1\n",
        "\n",
        "def randomized_quick_sort(arr, low, high):\n",
        "    if low < high:\n",
        "        pi = randomized_partition(arr, low, high)\n",
        "        randomized_quick_sort(arr, low, pi - 1)\n",
        "        randomized_quick_sort(arr, pi + 1, high)\n",
        "\n",
        "# Example Usage\n",
        "arr = [10, 7, 8, 9, 1, 5]\n",
        "randomized_quick_sort(arr, 0, len(arr) - 1)\n",
        "print(\"Sorted array:\", arr)\n"
      ],
      "metadata": {
        "id": "29Ia7Ws9-67_",
        "outputId": "0bc38438-7142-47c1-840f-8f0cf4ceab73",
        "colab": {
          "base_uri": "https://localhost:8080/"
        }
      },
      "execution_count": null,
      "outputs": [
        {
          "output_type": "stream",
          "name": "stdout",
          "text": [
            "Sorted array: [1, 5, 7, 8, 9, 10]\n"
          ]
        }
      ]
    }
  ]
}